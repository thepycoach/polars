{
 "cells": [
  {
   "cell_type": "code",
   "execution_count": null,
   "id": "1d24a9f0",
   "metadata": {},
   "outputs": [],
   "source": [
    "!pip install pandas\n",
    "!pip install lxml\n",
    "!pip install pyarrow"
   ]
  },
  {
   "cell_type": "code",
   "execution_count": null,
   "id": "969ba001",
   "metadata": {},
   "outputs": [],
   "source": [
    "import polars as pl\n",
    "df = pl.read_csv(\"StudentsPerformance.csv\")"
   ]
  },
  {
   "cell_type": "code",
   "execution_count": null,
   "id": "00b3874e",
   "metadata": {
    "scrolled": true
   },
   "outputs": [],
   "source": [
    "df"
   ]
  },
  {
   "cell_type": "code",
   "execution_count": null,
   "id": "401691fd",
   "metadata": {},
   "outputs": [],
   "source": [
    "# df.rows()\n",
    "df.columns"
   ]
  },
  {
   "cell_type": "markdown",
   "id": "3ed383da",
   "metadata": {},
   "source": [
    "# Select Columns"
   ]
  },
  {
   "cell_type": "code",
   "execution_count": null,
   "id": "73409c35",
   "metadata": {
    "scrolled": true
   },
   "outputs": [],
   "source": [
    "# Select 1 column\n",
    "df.select(pl.col('gender'))\n",
    "\n",
    "# Select 2+ columns\n",
    "# df.select(pl.col(['gender', 'math score']))\n",
    "\n",
    "# Select all columns\n",
    "# df.select(pl.col('*'))"
   ]
  },
  {
   "cell_type": "markdown",
   "id": "1bfd896c",
   "metadata": {},
   "source": [
    "# Create columns"
   ]
  },
  {
   "cell_type": "code",
   "execution_count": null,
   "id": "b967c106",
   "metadata": {
    "scrolled": true
   },
   "outputs": [],
   "source": [
    "df.with_columns(\n",
    "    (pl.col('math score') + pl.col('reading score')).alias(\"sum\")\n",
    ")\n",
    "\n",
    "# df['sum'] = df['math score'] + df['reading score']"
   ]
  },
  {
   "cell_type": "code",
   "execution_count": null,
   "id": "ca771c81",
   "metadata": {
    "scrolled": false
   },
   "outputs": [],
   "source": [
    "df.with_columns(\n",
    "    pl.col(['math score', 'reading score', 'writing score']).mean().alias('average')\n",
    ")\n",
    "\n",
    "# df['average'] = df[['math score', 'reading score', 'writing score']].mean(axis=1)"
   ]
  },
  {
   "cell_type": "markdown",
   "id": "a77f9cb2",
   "metadata": {},
   "source": [
    "# Filter"
   ]
  },
  {
   "cell_type": "code",
   "execution_count": null,
   "id": "9a346766",
   "metadata": {
    "scrolled": true
   },
   "outputs": [],
   "source": [
    "# Simple filtering\n",
    "df.filter(pl.col('gender')=='female')\n",
    "# df[df['gender'] == 'female']"
   ]
  },
  {
   "cell_type": "code",
   "execution_count": null,
   "id": "c4a6b0fe",
   "metadata": {
    "scrolled": false
   },
   "outputs": [],
   "source": [
    "# Multiple filtering\n",
    "df.filter(\n",
    "    (pl.col('gender')=='female') &\n",
    "    (pl.col('race/ethnicity')=='group B')\n",
    ")\n",
    "\n",
    "# df[(df['gender'] == 'female') & (df['race/ethnicity'] == 'group B')]"
   ]
  },
  {
   "cell_type": "markdown",
   "id": "a7d02e6b",
   "metadata": {},
   "source": [
    "# Group By"
   ]
  },
  {
   "cell_type": "code",
   "execution_count": null,
   "id": "18a53395",
   "metadata": {},
   "outputs": [],
   "source": [
    "df.groupby(\"race/ethnicity\").count()"
   ]
  },
  {
   "cell_type": "markdown",
   "id": "90b6b044",
   "metadata": {},
   "source": [
    "# Join df"
   ]
  },
  {
   "cell_type": "code",
   "execution_count": null,
   "id": "5de83136",
   "metadata": {
    "scrolled": false
   },
   "outputs": [],
   "source": [
    "df2 = pl.read_csv(\"LanguageScore.csv\")\n",
    "\n",
    "df.join(df2, on='id')\n",
    "# df.join(df2, on='id', how='left')\n",
    "\n",
    "# pd.merge(df_excel_1, df_excel_2, on='id', how='left')"
   ]
  },
  {
   "cell_type": "markdown",
   "id": "f5c49dcc",
   "metadata": {},
   "source": [
    "# Concat"
   ]
  },
  {
   "cell_type": "code",
   "execution_count": null,
   "id": "a313e8a9",
   "metadata": {},
   "outputs": [],
   "source": [
    "df2 = df2.drop(\"id\")\n",
    "pl.concat([df, df2], how=\"horizontal\")\n",
    "\n",
    "# df3 = pd.concat(\n",
    "#     [df_excel_1.set_index('id'), df_excel_2.set_index('id')], axis=1\n",
    "# )"
   ]
  }
 ],
 "metadata": {
  "kernelspec": {
   "display_name": "Python 3 (ipykernel)",
   "language": "python",
   "name": "python3"
  },
  "language_info": {
   "codemirror_mode": {
    "name": "ipython",
    "version": 3
   },
   "file_extension": ".py",
   "mimetype": "text/x-python",
   "name": "python",
   "nbconvert_exporter": "python",
   "pygments_lexer": "ipython3",
   "version": "3.10.4"
  },
  "toc": {
   "base_numbering": 1,
   "nav_menu": {},
   "number_sections": true,
   "sideBar": true,
   "skip_h1_title": false,
   "title_cell": "Table of Contents",
   "title_sidebar": "Contents",
   "toc_cell": false,
   "toc_position": {},
   "toc_section_display": true,
   "toc_window_display": false
  }
 },
 "nbformat": 4,
 "nbformat_minor": 5
}
